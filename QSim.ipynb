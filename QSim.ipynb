{
 "cells": [
  {
   "cell_type": "code",
   "execution_count": 1,
   "metadata": {},
   "outputs": [],
   "source": [
    "import numpy as np\n",
    "from scipy.linalg import kron\n",
    "from IPython.display import Markdown as md\n",
    "\n",
    "spin_up = np.array([[1, 0]]).T\n",
    "spin_down = np.array([[0, 1]]).T\n",
    "# bit[0] = |0>, bit[1] = |1>\n",
    "bit = [spin_up, spin_down]"
   ]
  },
  {
   "cell_type": "code",
   "execution_count": 2,
   "metadata": {},
   "outputs": [],
   "source": [
    "def basis(string='00010'):\n",
    "    '''string: the qubits sequence'''\n",
    "    res = np.array([[1]])\n",
    "    # 从最后一位开始往前数，做直积\n",
    "    for idx in string[::-1]:\n",
    "        res = kron(bit[int(idx)], res)    \n",
    "    return np.matrix(res)"
   ]
  },
  {
   "cell_type": "code",
   "execution_count": 3,
   "metadata": {},
   "outputs": [
    {
     "data": {
      "text/plain": [
       "1048576"
      ]
     },
     "execution_count": 3,
     "metadata": {},
     "output_type": "execute_result"
    }
   ],
   "source": [
    "len(basis('00100000001000011100'))"
   ]
  },
  {
   "cell_type": "code",
   "execution_count": 4,
   "metadata": {},
   "outputs": [],
   "source": [
    "def hilbert_space(nbit=5):\n",
    "    nspace = 2**nbit\n",
    "    for i in range(nspace):\n",
    "        #bin(7) = 0b100\n",
    "        binary = bin(i)[2:]\n",
    "        nzeros = nbit - len(binary)\n",
    "        yield '0'*nzeros + binary "
   ]
  },
  {
   "cell_type": "code",
   "execution_count": 5,
   "metadata": {},
   "outputs": [
    {
     "name": "stdout",
     "output_type": "stream",
     "text": [
      "000,001,010,011,100,101,110,111,"
     ]
    }
   ],
   "source": [
    "for mi in hilbert_space(nbit=3):\n",
    "    print(mi, end=',')"
   ]
  },
  {
   "cell_type": "code",
   "execution_count": 6,
   "metadata": {},
   "outputs": [],
   "source": [
    "def wave_func(coef=[], seqs=[]):\n",
    "    '''返回由振幅和几个Qubit序列表示的叠加态波函数，\n",
    "       sum_i coef_i |psi_i> '''\n",
    "    res = 0\n",
    "    for i, a in enumerate(coef):\n",
    "        res += a * basis(seqs[i])\n",
    "    return np.matrix(res)"
   ]
  },
  {
   "cell_type": "code",
   "execution_count": 7,
   "metadata": {},
   "outputs": [
    {
     "data": {
      "text/plain": [
       "matrix([[0.        +0.57735027j],\n",
       "        [0.        +0.j        ],\n",
       "        [0.        +0.j        ],\n",
       "        [0.        +0.j        ],\n",
       "        [0.81649658+0.j        ],\n",
       "        [0.        +0.j        ],\n",
       "        [0.        +0.j        ],\n",
       "        [0.        +0.j        ]])"
      ]
     },
     "execution_count": 7,
     "metadata": {},
     "output_type": "execute_result"
    }
   ],
   "source": [
    "coef = [1j/np.sqrt(3), np.sqrt(2/3)]\n",
    "seqs = ['000', '100']\n",
    "s = wave_func(coef, seqs)\n",
    "s"
   ]
  },
  {
   "cell_type": "code",
   "execution_count": 8,
   "metadata": {},
   "outputs": [],
   "source": [
    "def project(wave_func, direction):\n",
    "    '''<Psi | phi_i> to get the amplitude '''\n",
    "    return wave_func.H * direction"
   ]
  },
  {
   "cell_type": "code",
   "execution_count": 9,
   "metadata": {},
   "outputs": [],
   "source": [
    "def decompose(wave_func):\n",
    "    '''将叠加态波函数分解'''\n",
    "    nbit = int(np.log2(len(wave_func)))\n",
    "    amplitudes = []\n",
    "    direct_str = []\n",
    "    for seq in hilbert_space(nbit):\n",
    "        direct = basis(seq)\n",
    "        amp = project(wave_func, direct).A1[0]\n",
    "        if np.linalg.norm(amp) != 0:\n",
    "            amplitudes.append(amp)\n",
    "            direct_str.append(seq)\n",
    "    return amplitudes, direct_str"
   ]
  },
  {
   "cell_type": "code",
   "execution_count": 10,
   "metadata": {},
   "outputs": [],
   "source": [
    "def print_wf(wf):\n",
    "    coef, seqs = decompose(wf)\n",
    "    latex = \"\"\n",
    "    for i, seq in enumerate(seqs):\n",
    "        latex += r\"%s$|%s\\rangle$\"%(coef[i], seq)\n",
    "        if i != len(seqs) - 1:\n",
    "            latex += \"+\"\n",
    "    return md(latex)"
   ]
  },
  {
   "cell_type": "code",
   "execution_count": 11,
   "metadata": {},
   "outputs": [
    {
     "data": {
      "text/markdown": [
       "-0.5773502691896258j$|000\\rangle$+(0.816496580927726+0j)$|100\\rangle$"
      ],
      "text/plain": [
       "<IPython.core.display.Markdown object>"
      ]
     },
     "execution_count": 11,
     "metadata": {},
     "output_type": "execute_result"
    }
   ],
   "source": [
    "print_wf(s)"
   ]
  },
  {
   "cell_type": "code",
   "execution_count": 12,
   "metadata": {},
   "outputs": [],
   "source": [
    "# Define the one-qubit and 2-qubit operation gates \n",
    "I = np.matrix(\"1 0; 0 1\")\n",
    "X = np.matrix(\"0 1; 1 0\")\n",
    "Y = np.matrix(\"0 -1j; 1j 0\")\n",
    "Z = np.matrix(\"1 0; 0 -1\")\n",
    "H = np.matrix(\"1 1; 1 -1\") / np.sqrt(2)\n",
    "\n",
    "CNOT = np.matrix(\"1 0 0 0; 0 1 0 0; 0 0 0 1; 0 0 1 0\")\n",
    "\n",
    "SWAP = np.matrix(\"1 0 0 0; 0 0 1 0; 0 1 0 0; 0 0 0 1\")\n",
    "\n",
    "gates = {'I':I,  'X':X, 'Y':Y, 'Z':Z, 'H':H, 'CNOT':CNOT, 'SWAP':SWAP}"
   ]
  },
  {
   "cell_type": "code",
   "execution_count": 13,
   "metadata": {},
   "outputs": [
    {
     "data": {
      "text/markdown": [
       "1$|1\\rangle$"
      ],
      "text/plain": [
       "<IPython.core.display.Markdown object>"
      ]
     },
     "execution_count": 13,
     "metadata": {},
     "output_type": "execute_result"
    }
   ],
   "source": [
    "print_wf(X * spin_up)"
   ]
  },
  {
   "cell_type": "code",
   "execution_count": 14,
   "metadata": {},
   "outputs": [
    {
     "data": {
      "text/markdown": [
       "1$|0\\rangle$"
      ],
      "text/plain": [
       "<IPython.core.display.Markdown object>"
      ]
     },
     "execution_count": 14,
     "metadata": {},
     "output_type": "execute_result"
    }
   ],
   "source": [
    "print_wf(X * spin_down)"
   ]
  },
  {
   "cell_type": "code",
   "execution_count": 15,
   "metadata": {},
   "outputs": [
    {
     "data": {
      "text/markdown": [
       "0.8$|0\\rangle$+0.6$|1\\rangle$"
      ],
      "text/plain": [
       "<IPython.core.display.Markdown object>"
      ]
     },
     "execution_count": 15,
     "metadata": {},
     "output_type": "execute_result"
    }
   ],
   "source": [
    "print_wf(X * (0.6 * spin_up + 0.8 * spin_down))"
   ]
  },
  {
   "cell_type": "code",
   "execution_count": 16,
   "metadata": {},
   "outputs": [
    {
     "data": {
      "text/markdown": [
       "0.7071067811865475$|0\\rangle$+0.7071067811865475$|1\\rangle$"
      ],
      "text/plain": [
       "<IPython.core.display.Markdown object>"
      ]
     },
     "execution_count": 16,
     "metadata": {},
     "output_type": "execute_result"
    }
   ],
   "source": [
    "print_wf(H * bit[0])"
   ]
  },
  {
   "cell_type": "code",
   "execution_count": 17,
   "metadata": {},
   "outputs": [
    {
     "data": {
      "text/markdown": [
       "0.7071067811865475$|0\\rangle$+-0.7071067811865475$|1\\rangle$"
      ],
      "text/plain": [
       "<IPython.core.display.Markdown object>"
      ]
     },
     "execution_count": 17,
     "metadata": {},
     "output_type": "execute_result"
    }
   ],
   "source": [
    "print_wf(H * bit[1])"
   ]
  },
  {
   "cell_type": "code",
   "execution_count": 18,
   "metadata": {},
   "outputs": [
    {
     "data": {
      "text/markdown": [
       "1$|000\\rangle$"
      ],
      "text/plain": [
       "<IPython.core.display.Markdown object>"
      ]
     },
     "execution_count": 18,
     "metadata": {},
     "output_type": "execute_result"
    }
   ],
   "source": [
    "s001 = basis('001')\n",
    "IIX = kron(I, kron(I, X))\n",
    "print_wf(IIX * s001)"
   ]
  },
  {
   "cell_type": "code",
   "execution_count": 19,
   "metadata": {},
   "outputs": [
    {
     "data": {
      "text/markdown": [
       "1$|00\\rangle$"
      ],
      "text/plain": [
       "<IPython.core.display.Markdown object>"
      ]
     },
     "execution_count": 19,
     "metadata": {},
     "output_type": "execute_result"
    }
   ],
   "source": [
    "s00 = basis('00')\n",
    "print_wf(CNOT * s00)"
   ]
  },
  {
   "cell_type": "code",
   "execution_count": 20,
   "metadata": {},
   "outputs": [
    {
     "data": {
      "text/markdown": [
       "1$|11\\rangle$"
      ],
      "text/plain": [
       "<IPython.core.display.Markdown object>"
      ]
     },
     "execution_count": 20,
     "metadata": {},
     "output_type": "execute_result"
    }
   ],
   "source": [
    "s10 = basis('10')\n",
    "print_wf(CNOT * s10)"
   ]
  },
  {
   "cell_type": "code",
   "execution_count": 23,
   "metadata": {},
   "outputs": [
    {
     "data": {
      "text/markdown": [
       "1$|01\\rangle$"
      ],
      "text/plain": [
       "<IPython.core.display.Markdown object>"
      ]
     },
     "execution_count": 23,
     "metadata": {},
     "output_type": "execute_result"
    }
   ],
   "source": [
    "print_wf(SWAP * basis('10'))"
   ]
  },
  {
   "cell_type": "code",
   "execution_count": null,
   "metadata": {},
   "outputs": [],
   "source": []
  }
 ],
 "metadata": {
  "kernelspec": {
   "display_name": "Python 3",
   "language": "python",
   "name": "python3"
  },
  "language_info": {
   "codemirror_mode": {
    "name": "ipython",
    "version": 3
   },
   "file_extension": ".py",
   "mimetype": "text/x-python",
   "name": "python",
   "nbconvert_exporter": "python",
   "pygments_lexer": "ipython3",
   "version": "3.7.3"
  }
 },
 "nbformat": 4,
 "nbformat_minor": 2
}
